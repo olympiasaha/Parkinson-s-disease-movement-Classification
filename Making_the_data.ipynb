{
 "cells": [
  {
   "cell_type": "code",
   "execution_count": 1,
   "metadata": {},
   "outputs": [
    {
     "name": "stderr",
     "output_type": "stream",
     "text": [
      "/home/rupamay/anaconda3/lib/python3.8/site-packages/pandas/core/computation/expressions.py:20: UserWarning: Pandas requires version '2.7.3' or newer of 'numexpr' (version '2.7.1' currently installed).\n",
      "  from pandas.core.computation.check import NUMEXPR_INSTALLED\n"
     ]
    }
   ],
   "source": [
    "import pandas as pd\n",
    "import numpy as np\n",
    "import matplotlib.pyplot as plt\n",
    "import os\n",
    "import glob\n",
    "import seaborn as sns; sns.set()\n"
   ]
  },
  {
   "cell_type": "code",
   "execution_count": 2,
   "metadata": {},
   "outputs": [],
   "source": [
    "import tensorflow as tf\n",
    "from sklearn.preprocessing import MinMaxScaler\n",
    "from sklearn.metrics import mean_squared_error, r2_score\n",
    "from sklearn.model_selection import train_test_split\n",
    "import seaborn as sns; sns.set()\n",
    "%matplotlib inline\n",
    "pd.set_option('display.float_format', lambda x: '%.5f' % x)"
   ]
  },
  {
   "cell_type": "code",
   "execution_count": 3,
   "metadata": {},
   "outputs": [
    {
     "name": "stdout",
     "output_type": "stream",
     "text": [
      "Number of CSV files in tdcsfog directory: 833\n"
     ]
    }
   ],
   "source": [
    "directory = \"tlvmc-parkinsons-freezing-gait-prediction/train/tdcsfog\" \n",
    "csv_count = len(glob.glob(os.path.join(directory, \"*.csv\")))\n",
    "print(\"Number of CSV files in tdcsfog directory:\", csv_count)"
   ]
  },
  {
   "cell_type": "code",
   "execution_count": 4,
   "metadata": {},
   "outputs": [
    {
     "data": {
      "text/html": [
       "<div>\n",
       "<style scoped>\n",
       "    .dataframe tbody tr th:only-of-type {\n",
       "        vertical-align: middle;\n",
       "    }\n",
       "\n",
       "    .dataframe tbody tr th {\n",
       "        vertical-align: top;\n",
       "    }\n",
       "\n",
       "    .dataframe thead th {\n",
       "        text-align: right;\n",
       "    }\n",
       "</style>\n",
       "<table border=\"1\" class=\"dataframe\">\n",
       "  <thead>\n",
       "    <tr style=\"text-align: right;\">\n",
       "      <th></th>\n",
       "      <th>Time</th>\n",
       "      <th>AccV</th>\n",
       "      <th>AccML</th>\n",
       "      <th>AccAP</th>\n",
       "      <th>StartHesitation</th>\n",
       "      <th>Turn</th>\n",
       "      <th>Walking</th>\n",
       "    </tr>\n",
       "  </thead>\n",
       "  <tbody>\n",
       "    <tr>\n",
       "      <th>0</th>\n",
       "      <td>0</td>\n",
       "      <td>-9.53394</td>\n",
       "      <td>0.56632</td>\n",
       "      <td>-1.41353</td>\n",
       "      <td>0</td>\n",
       "      <td>0</td>\n",
       "      <td>0</td>\n",
       "    </tr>\n",
       "    <tr>\n",
       "      <th>1</th>\n",
       "      <td>1</td>\n",
       "      <td>-9.53614</td>\n",
       "      <td>0.56414</td>\n",
       "      <td>-1.44062</td>\n",
       "      <td>0</td>\n",
       "      <td>0</td>\n",
       "      <td>0</td>\n",
       "    </tr>\n",
       "    <tr>\n",
       "      <th>2</th>\n",
       "      <td>2</td>\n",
       "      <td>-9.52935</td>\n",
       "      <td>0.56176</td>\n",
       "      <td>-1.42933</td>\n",
       "      <td>0</td>\n",
       "      <td>0</td>\n",
       "      <td>0</td>\n",
       "    </tr>\n",
       "    <tr>\n",
       "      <th>3</th>\n",
       "      <td>3</td>\n",
       "      <td>-9.53124</td>\n",
       "      <td>0.56423</td>\n",
       "      <td>-1.41549</td>\n",
       "      <td>0</td>\n",
       "      <td>0</td>\n",
       "      <td>0</td>\n",
       "    </tr>\n",
       "    <tr>\n",
       "      <th>4</th>\n",
       "      <td>4</td>\n",
       "      <td>-9.54082</td>\n",
       "      <td>0.56185</td>\n",
       "      <td>-1.42947</td>\n",
       "      <td>0</td>\n",
       "      <td>0</td>\n",
       "      <td>0</td>\n",
       "    </tr>\n",
       "  </tbody>\n",
       "</table>\n",
       "</div>"
      ],
      "text/plain": [
       "   Time     AccV   AccML    AccAP  StartHesitation  Turn  Walking\n",
       "0     0 -9.53394 0.56632 -1.41353                0     0        0\n",
       "1     1 -9.53614 0.56414 -1.44062                0     0        0\n",
       "2     2 -9.52935 0.56176 -1.42933                0     0        0\n",
       "3     3 -9.53124 0.56423 -1.41549                0     0        0\n",
       "4     4 -9.54082 0.56185 -1.42947                0     0        0"
      ]
     },
     "execution_count": 4,
     "metadata": {},
     "output_type": "execute_result"
    }
   ],
   "source": [
    "df_tdcsfog_003f117e14= pd.read_csv(\"tlvmc-parkinsons-freezing-gait-prediction/train/tdcsfog/003f117e14.csv\", delimiter = \",\",low_memory=False)\n",
    "df_tdcsfog_003f117e14.head()"
   ]
  },
  {
   "cell_type": "code",
   "execution_count": 5,
   "metadata": {},
   "outputs": [
    {
     "data": {
      "text/html": [
       "<div>\n",
       "<style scoped>\n",
       "    .dataframe tbody tr th:only-of-type {\n",
       "        vertical-align: middle;\n",
       "    }\n",
       "\n",
       "    .dataframe tbody tr th {\n",
       "        vertical-align: top;\n",
       "    }\n",
       "\n",
       "    .dataframe thead th {\n",
       "        text-align: right;\n",
       "    }\n",
       "</style>\n",
       "<table border=\"1\" class=\"dataframe\">\n",
       "  <thead>\n",
       "    <tr style=\"text-align: right;\">\n",
       "      <th></th>\n",
       "      <th>Id</th>\n",
       "      <th>Subject</th>\n",
       "      <th>Visit</th>\n",
       "      <th>Test</th>\n",
       "      <th>Medication</th>\n",
       "    </tr>\n",
       "  </thead>\n",
       "  <tbody>\n",
       "    <tr>\n",
       "      <th>0</th>\n",
       "      <td>003f117e14</td>\n",
       "      <td>13abfd</td>\n",
       "      <td>3</td>\n",
       "      <td>2</td>\n",
       "      <td>on</td>\n",
       "    </tr>\n",
       "    <tr>\n",
       "      <th>1</th>\n",
       "      <td>009ee11563</td>\n",
       "      <td>d81e3a</td>\n",
       "      <td>4</td>\n",
       "      <td>2</td>\n",
       "      <td>on</td>\n",
       "    </tr>\n",
       "    <tr>\n",
       "      <th>2</th>\n",
       "      <td>011322847a</td>\n",
       "      <td>203e85</td>\n",
       "      <td>2</td>\n",
       "      <td>2</td>\n",
       "      <td>on</td>\n",
       "    </tr>\n",
       "    <tr>\n",
       "      <th>3</th>\n",
       "      <td>01d0fe7266</td>\n",
       "      <td>203e85</td>\n",
       "      <td>2</td>\n",
       "      <td>1</td>\n",
       "      <td>off</td>\n",
       "    </tr>\n",
       "    <tr>\n",
       "      <th>4</th>\n",
       "      <td>024418ba39</td>\n",
       "      <td>cecfb8</td>\n",
       "      <td>19</td>\n",
       "      <td>3</td>\n",
       "      <td>on</td>\n",
       "    </tr>\n",
       "  </tbody>\n",
       "</table>\n",
       "</div>"
      ],
      "text/plain": [
       "           Id Subject  Visit  Test Medication\n",
       "0  003f117e14  13abfd      3     2         on\n",
       "1  009ee11563  d81e3a      4     2         on\n",
       "2  011322847a  203e85      2     2         on\n",
       "3  01d0fe7266  203e85      2     1        off\n",
       "4  024418ba39  cecfb8     19     3         on"
      ]
     },
     "execution_count": 5,
     "metadata": {},
     "output_type": "execute_result"
    }
   ],
   "source": [
    "df_tdcsfog_metadata= pd.read_csv(\"tlvmc-parkinsons-freezing-gait-prediction/tdcsfog_metadata.csv\", delimiter = \",\",low_memory=False)\n",
    "df_tdcsfog_metadata.head()"
   ]
  },
  {
   "cell_type": "code",
   "execution_count": 6,
   "metadata": {},
   "outputs": [
    {
     "data": {
      "text/html": [
       "<div>\n",
       "<style scoped>\n",
       "    .dataframe tbody tr th:only-of-type {\n",
       "        vertical-align: middle;\n",
       "    }\n",
       "\n",
       "    .dataframe tbody tr th {\n",
       "        vertical-align: top;\n",
       "    }\n",
       "\n",
       "    .dataframe thead th {\n",
       "        text-align: right;\n",
       "    }\n",
       "</style>\n",
       "<table border=\"1\" class=\"dataframe\">\n",
       "  <thead>\n",
       "    <tr style=\"text-align: right;\">\n",
       "      <th></th>\n",
       "      <th>Subject</th>\n",
       "      <th>Visit</th>\n",
       "      <th>Age</th>\n",
       "      <th>Sex</th>\n",
       "      <th>YearsSinceDx</th>\n",
       "      <th>UPDRSIII_On</th>\n",
       "      <th>UPDRSIII_Off</th>\n",
       "      <th>NFOGQ</th>\n",
       "    </tr>\n",
       "  </thead>\n",
       "  <tbody>\n",
       "    <tr>\n",
       "      <th>0</th>\n",
       "      <td>04fcdb</td>\n",
       "      <td>1.00000</td>\n",
       "      <td>63</td>\n",
       "      <td>M</td>\n",
       "      <td>3.00000</td>\n",
       "      <td>30.00000</td>\n",
       "      <td>NaN</td>\n",
       "      <td>0</td>\n",
       "    </tr>\n",
       "    <tr>\n",
       "      <th>1</th>\n",
       "      <td>05595e</td>\n",
       "      <td>1.00000</td>\n",
       "      <td>56</td>\n",
       "      <td>M</td>\n",
       "      <td>8.00000</td>\n",
       "      <td>28.00000</td>\n",
       "      <td>NaN</td>\n",
       "      <td>0</td>\n",
       "    </tr>\n",
       "    <tr>\n",
       "      <th>2</th>\n",
       "      <td>0967b2</td>\n",
       "      <td>1.00000</td>\n",
       "      <td>59</td>\n",
       "      <td>M</td>\n",
       "      <td>10.00000</td>\n",
       "      <td>38.00000</td>\n",
       "      <td>48.00000</td>\n",
       "      <td>19</td>\n",
       "    </tr>\n",
       "    <tr>\n",
       "      <th>3</th>\n",
       "      <td>0967b2</td>\n",
       "      <td>2.00000</td>\n",
       "      <td>59</td>\n",
       "      <td>M</td>\n",
       "      <td>10.00000</td>\n",
       "      <td>37.00000</td>\n",
       "      <td>44.00000</td>\n",
       "      <td>13</td>\n",
       "    </tr>\n",
       "    <tr>\n",
       "      <th>4</th>\n",
       "      <td>097078</td>\n",
       "      <td>NaN</td>\n",
       "      <td>70</td>\n",
       "      <td>F</td>\n",
       "      <td>10.00000</td>\n",
       "      <td>27.00000</td>\n",
       "      <td>50.00000</td>\n",
       "      <td>20</td>\n",
       "    </tr>\n",
       "  </tbody>\n",
       "</table>\n",
       "</div>"
      ],
      "text/plain": [
       "  Subject   Visit  Age Sex  YearsSinceDx  UPDRSIII_On  UPDRSIII_Off  NFOGQ\n",
       "0  04fcdb 1.00000   63   M       3.00000     30.00000           NaN      0\n",
       "1  05595e 1.00000   56   M       8.00000     28.00000           NaN      0\n",
       "2  0967b2 1.00000   59   M      10.00000     38.00000      48.00000     19\n",
       "3  0967b2 2.00000   59   M      10.00000     37.00000      44.00000     13\n",
       "4  097078     NaN   70   F      10.00000     27.00000      50.00000     20"
      ]
     },
     "execution_count": 6,
     "metadata": {},
     "output_type": "execute_result"
    }
   ],
   "source": [
    "df_subjects= pd.read_csv(\"tlvmc-parkinsons-freezing-gait-prediction/subjects.csv\", delimiter = \",\",low_memory=False)\n",
    "df_subjects.head()"
   ]
  },
  {
   "cell_type": "code",
   "execution_count": 7,
   "metadata": {},
   "outputs": [
    {
     "data": {
      "text/html": [
       "<div>\n",
       "<style scoped>\n",
       "    .dataframe tbody tr th:only-of-type {\n",
       "        vertical-align: middle;\n",
       "    }\n",
       "\n",
       "    .dataframe tbody tr th {\n",
       "        vertical-align: top;\n",
       "    }\n",
       "\n",
       "    .dataframe thead th {\n",
       "        text-align: right;\n",
       "    }\n",
       "</style>\n",
       "<table border=\"1\" class=\"dataframe\">\n",
       "  <thead>\n",
       "    <tr style=\"text-align: right;\">\n",
       "      <th></th>\n",
       "      <th>Id</th>\n",
       "      <th>Init</th>\n",
       "      <th>Completion</th>\n",
       "      <th>Type</th>\n",
       "      <th>Kinetic</th>\n",
       "    </tr>\n",
       "  </thead>\n",
       "  <tbody>\n",
       "    <tr>\n",
       "      <th>0</th>\n",
       "      <td>003f117e14</td>\n",
       "      <td>8.61312</td>\n",
       "      <td>14.77310</td>\n",
       "      <td>Turn</td>\n",
       "      <td>1.00000</td>\n",
       "    </tr>\n",
       "    <tr>\n",
       "      <th>1</th>\n",
       "      <td>009ee11563</td>\n",
       "      <td>11.38470</td>\n",
       "      <td>41.18470</td>\n",
       "      <td>Turn</td>\n",
       "      <td>1.00000</td>\n",
       "    </tr>\n",
       "    <tr>\n",
       "      <th>2</th>\n",
       "      <td>009ee11563</td>\n",
       "      <td>54.66470</td>\n",
       "      <td>58.78470</td>\n",
       "      <td>Turn</td>\n",
       "      <td>1.00000</td>\n",
       "    </tr>\n",
       "    <tr>\n",
       "      <th>3</th>\n",
       "      <td>011322847a</td>\n",
       "      <td>28.09660</td>\n",
       "      <td>30.29660</td>\n",
       "      <td>Turn</td>\n",
       "      <td>1.00000</td>\n",
       "    </tr>\n",
       "    <tr>\n",
       "      <th>4</th>\n",
       "      <td>01d0fe7266</td>\n",
       "      <td>30.31840</td>\n",
       "      <td>31.87840</td>\n",
       "      <td>Turn</td>\n",
       "      <td>1.00000</td>\n",
       "    </tr>\n",
       "  </tbody>\n",
       "</table>\n",
       "</div>"
      ],
      "text/plain": [
       "           Id     Init  Completion  Type  Kinetic\n",
       "0  003f117e14  8.61312    14.77310  Turn  1.00000\n",
       "1  009ee11563 11.38470    41.18470  Turn  1.00000\n",
       "2  009ee11563 54.66470    58.78470  Turn  1.00000\n",
       "3  011322847a 28.09660    30.29660  Turn  1.00000\n",
       "4  01d0fe7266 30.31840    31.87840  Turn  1.00000"
      ]
     },
     "execution_count": 7,
     "metadata": {},
     "output_type": "execute_result"
    }
   ],
   "source": [
    "df_tdcsfog_events= pd.read_csv(\"tlvmc-parkinsons-freezing-gait-prediction/events.csv\", delimiter = \",\",low_memory=False)\n",
    "df_tdcsfog_events.head()"
   ]
  },
  {
   "cell_type": "code",
   "execution_count": 8,
   "metadata": {},
   "outputs": [
    {
     "data": {
      "text/plain": [
       "<AxesSubplot:>"
      ]
     },
     "execution_count": 8,
     "metadata": {},
     "output_type": "execute_result"
    },
    {
     "data": {
      "image/png": "[encoded data removed]",
      "text/plain": [
       "<Figure size 432x288 with 1 Axes>"
      ]
     },
     "metadata": {
      "needs_background": "light"
     },
     "output_type": "display_data"
    }
   ],
   "source": [
    "df_subjects.isna().sum().plot.bar()"
   ]
  },
  {
   "cell_type": "markdown",
   "metadata": {},
   "source": [
    "Visit is not annotated for tdcsfog patients"
   ]
  },
  {
   "cell_type": "code",
   "execution_count": 9,
   "metadata": {},
   "outputs": [
    {
     "data": {
      "text/plain": [
       "Index(['Time', 'AccV', 'AccML', 'AccAP', 'StartHesitation', 'Turn', 'Walking'], dtype='object')"
      ]
     },
     "execution_count": 9,
     "metadata": {},
     "output_type": "execute_result"
    }
   ],
   "source": [
    "df_tdcsfog_003f117e14.columns"
   ]
  },
  {
   "cell_type": "code",
   "execution_count": 10,
   "metadata": {},
   "outputs": [],
   "source": [
    "df1 = pd.DataFrame(columns=['Id','Time', 'AccV', 'AccML', 'AccAP', 'StartHesitation', 'Turn', 'Walking'])\n",
    "df1.columns\n",
    "csv_folder_path = 'tlvmc-parkinsons-freezing-gait-prediction/train/tdcsfog'\n",
    "\n",
    "for file in os.listdir(csv_folder_path):\n",
    "    if file.endswith(\".csv\"):\n",
    "        df = pd.read_csv(os.path.join(csv_folder_path, file),delimiter=',',low_memory=False)\n",
    "        df['Id']=file[:-4]\n",
    "        df1 = pd.concat([df1, df])"
   ]
  },
  {
   "cell_type": "code",
   "execution_count": 11,
   "metadata": {},
   "outputs": [
    {
     "data": {
      "text/plain": [
       "(7062672, 8)"
      ]
     },
     "execution_count": 11,
     "metadata": {},
     "output_type": "execute_result"
    }
   ],
   "source": [
    "df1.shape"
   ]
  },
  {
   "cell_type": "code",
   "execution_count": 12,
   "metadata": {},
   "outputs": [],
   "source": [
    "df1.to_csv('Combined_tdcsfog.csv')"
   ]
  },
  {
   "cell_type": "code",
   "execution_count": 13,
   "metadata": {},
   "outputs": [],
   "source": [
    "df1= pd.read_csv(\"Combined_tdcsfog.csv\", delimiter = \",\",low_memory=False)"
   ]
  },
  {
   "cell_type": "code",
   "execution_count": 14,
   "metadata": {},
   "outputs": [],
   "source": [
    "df1.drop(\"Unnamed: 0\",axis=1,inplace=True)"
   ]
  },
  {
   "cell_type": "code",
   "execution_count": 15,
   "metadata": {},
   "outputs": [
    {
     "data": {
      "text/plain": [
       "<AxesSubplot:>"
      ]
     },
     "execution_count": 15,
     "metadata": {},
     "output_type": "execute_result"
    },
    {
     "data": {
      "image/png": "[encoded data removed]",
      "text/plain": [
       "<Figure size 432x288 with 1 Axes>"
      ]
     },
     "metadata": {
      "needs_background": "light"
     },
     "output_type": "display_data"
    }
   ],
   "source": [
    "df1.isna().sum().plot.bar()"
   ]
  },
  {
   "cell_type": "code",
   "execution_count": 16,
   "metadata": {},
   "outputs": [
    {
     "data": {
      "text/plain": [
       "833"
      ]
     },
     "execution_count": 16,
     "metadata": {},
     "output_type": "execute_result"
    }
   ],
   "source": [
    "unique_ids=df1['Id'].unique()\n",
    "len(unique_ids)"
   ]
  },
  {
   "cell_type": "code",
   "execution_count": 17,
   "metadata": {},
   "outputs": [
    {
     "data": {
      "text/plain": [
       "<AxesSubplot:>"
      ]
     },
     "execution_count": 17,
     "metadata": {},
     "output_type": "execute_result"
    },
    {
     "data": {
      "image/png": "[encoded data removed]",
      "text/plain": [
       "<Figure size 432x288 with 1 Axes>"
      ]
     },
     "metadata": {
      "needs_background": "light"
     },
     "output_type": "display_data"
    }
   ],
   "source": [
    "df_tdcsfog_metadata.isna().sum().plot.bar()"
   ]
  },
  {
   "cell_type": "code",
   "execution_count": 18,
   "metadata": {},
   "outputs": [],
   "source": [
    "final_df = pd.merge(df1, df_tdcsfog_metadata, on='Id')"
   ]
  },
  {
   "cell_type": "code",
   "execution_count": 19,
   "metadata": {},
   "outputs": [
    {
     "data": {
      "text/plain": [
       "(7062672, 12)"
      ]
     },
     "execution_count": 19,
     "metadata": {},
     "output_type": "execute_result"
    }
   ],
   "source": [
    "final_df.shape"
   ]
  },
  {
   "cell_type": "code",
   "execution_count": 20,
   "metadata": {},
   "outputs": [
    {
     "data": {
      "text/html": [
       "<div>\n",
       "<style scoped>\n",
       "    .dataframe tbody tr th:only-of-type {\n",
       "        vertical-align: middle;\n",
       "    }\n",
       "\n",
       "    .dataframe tbody tr th {\n",
       "        vertical-align: top;\n",
       "    }\n",
       "\n",
       "    .dataframe thead th {\n",
       "        text-align: right;\n",
       "    }\n",
       "</style>\n",
       "<table border=\"1\" class=\"dataframe\">\n",
       "  <thead>\n",
       "    <tr style=\"text-align: right;\">\n",
       "      <th></th>\n",
       "      <th>Id</th>\n",
       "      <th>Time</th>\n",
       "      <th>AccV</th>\n",
       "      <th>AccML</th>\n",
       "      <th>AccAP</th>\n",
       "      <th>StartHesitation</th>\n",
       "      <th>Turn</th>\n",
       "      <th>Walking</th>\n",
       "      <th>Subject</th>\n",
       "      <th>Visit</th>\n",
       "      <th>Test</th>\n",
       "      <th>Medication</th>\n",
       "    </tr>\n",
       "  </thead>\n",
       "  <tbody>\n",
       "    <tr>\n",
       "      <th>7062667</th>\n",
       "      <td>867e5f1732</td>\n",
       "      <td>6441</td>\n",
       "      <td>-9.24383</td>\n",
       "      <td>0.44934</td>\n",
       "      <td>-2.67836</td>\n",
       "      <td>0</td>\n",
       "      <td>0</td>\n",
       "      <td>0</td>\n",
       "      <td>29f043</td>\n",
       "      <td>4</td>\n",
       "      <td>2</td>\n",
       "      <td>off</td>\n",
       "    </tr>\n",
       "    <tr>\n",
       "      <th>7062668</th>\n",
       "      <td>867e5f1732</td>\n",
       "      <td>6442</td>\n",
       "      <td>-9.28303</td>\n",
       "      <td>0.41505</td>\n",
       "      <td>-2.74732</td>\n",
       "      <td>0</td>\n",
       "      <td>0</td>\n",
       "      <td>0</td>\n",
       "      <td>29f043</td>\n",
       "      <td>4</td>\n",
       "      <td>2</td>\n",
       "      <td>off</td>\n",
       "    </tr>\n",
       "    <tr>\n",
       "      <th>7062669</th>\n",
       "      <td>867e5f1732</td>\n",
       "      <td>6443</td>\n",
       "      <td>-9.26007</td>\n",
       "      <td>0.35094</td>\n",
       "      <td>-2.74580</td>\n",
       "      <td>0</td>\n",
       "      <td>0</td>\n",
       "      <td>0</td>\n",
       "      <td>29f043</td>\n",
       "      <td>4</td>\n",
       "      <td>2</td>\n",
       "      <td>off</td>\n",
       "    </tr>\n",
       "    <tr>\n",
       "      <th>7062670</th>\n",
       "      <td>867e5f1732</td>\n",
       "      <td>6444</td>\n",
       "      <td>-9.31258</td>\n",
       "      <td>0.39918</td>\n",
       "      <td>-2.71852</td>\n",
       "      <td>0</td>\n",
       "      <td>0</td>\n",
       "      <td>0</td>\n",
       "      <td>29f043</td>\n",
       "      <td>4</td>\n",
       "      <td>2</td>\n",
       "      <td>off</td>\n",
       "    </tr>\n",
       "    <tr>\n",
       "      <th>7062671</th>\n",
       "      <td>867e5f1732</td>\n",
       "      <td>6445</td>\n",
       "      <td>-9.33366</td>\n",
       "      <td>0.33713</td>\n",
       "      <td>-2.69978</td>\n",
       "      <td>0</td>\n",
       "      <td>0</td>\n",
       "      <td>0</td>\n",
       "      <td>29f043</td>\n",
       "      <td>4</td>\n",
       "      <td>2</td>\n",
       "      <td>off</td>\n",
       "    </tr>\n",
       "  </tbody>\n",
       "</table>\n",
       "</div>"
      ],
      "text/plain": [
       "                 Id  Time     AccV   AccML    AccAP  StartHesitation  Turn  \\\n",
       "7062667  867e5f1732  6441 -9.24383 0.44934 -2.67836                0     0   \n",
       "7062668  867e5f1732  6442 -9.28303 0.41505 -2.74732                0     0   \n",
       "7062669  867e5f1732  6443 -9.26007 0.35094 -2.74580                0     0   \n",
       "7062670  867e5f1732  6444 -9.31258 0.39918 -2.71852                0     0   \n",
       "7062671  867e5f1732  6445 -9.33366 0.33713 -2.69978                0     0   \n",
       "\n",
       "         Walking Subject  Visit  Test Medication  \n",
       "7062667        0  29f043      4     2        off  \n",
       "7062668        0  29f043      4     2        off  \n",
       "7062669        0  29f043      4     2        off  \n",
       "7062670        0  29f043      4     2        off  \n",
       "7062671        0  29f043      4     2        off  "
      ]
     },
     "execution_count": 20,
     "metadata": {},
     "output_type": "execute_result"
    }
   ],
   "source": [
    "final_df.tail()"
   ]
  },
  {
   "cell_type": "code",
   "execution_count": 21,
   "metadata": {},
   "outputs": [
    {
     "data": {
      "text/html": [
       "<div>\n",
       "<style scoped>\n",
       "    .dataframe tbody tr th:only-of-type {\n",
       "        vertical-align: middle;\n",
       "    }\n",
       "\n",
       "    .dataframe tbody tr th {\n",
       "        vertical-align: top;\n",
       "    }\n",
       "\n",
       "    .dataframe thead th {\n",
       "        text-align: right;\n",
       "    }\n",
       "</style>\n",
       "<table border=\"1\" class=\"dataframe\">\n",
       "  <thead>\n",
       "    <tr style=\"text-align: right;\">\n",
       "      <th></th>\n",
       "      <th>Subject</th>\n",
       "      <th>Age</th>\n",
       "      <th>Sex</th>\n",
       "      <th>YearsSinceDx</th>\n",
       "      <th>UPDRSIII_On</th>\n",
       "      <th>UPDRSIII_Off</th>\n",
       "      <th>NFOGQ</th>\n",
       "    </tr>\n",
       "  </thead>\n",
       "  <tbody>\n",
       "    <tr>\n",
       "      <th>0</th>\n",
       "      <td>04fcdb</td>\n",
       "      <td>63</td>\n",
       "      <td>M</td>\n",
       "      <td>3.00000</td>\n",
       "      <td>30.00000</td>\n",
       "      <td>NaN</td>\n",
       "      <td>0</td>\n",
       "    </tr>\n",
       "    <tr>\n",
       "      <th>1</th>\n",
       "      <td>05595e</td>\n",
       "      <td>56</td>\n",
       "      <td>M</td>\n",
       "      <td>8.00000</td>\n",
       "      <td>28.00000</td>\n",
       "      <td>NaN</td>\n",
       "      <td>0</td>\n",
       "    </tr>\n",
       "    <tr>\n",
       "      <th>2</th>\n",
       "      <td>0967b2</td>\n",
       "      <td>59</td>\n",
       "      <td>M</td>\n",
       "      <td>10.00000</td>\n",
       "      <td>38.00000</td>\n",
       "      <td>48.00000</td>\n",
       "      <td>19</td>\n",
       "    </tr>\n",
       "    <tr>\n",
       "      <th>3</th>\n",
       "      <td>0967b2</td>\n",
       "      <td>59</td>\n",
       "      <td>M</td>\n",
       "      <td>10.00000</td>\n",
       "      <td>37.00000</td>\n",
       "      <td>44.00000</td>\n",
       "      <td>13</td>\n",
       "    </tr>\n",
       "    <tr>\n",
       "      <th>4</th>\n",
       "      <td>097078</td>\n",
       "      <td>70</td>\n",
       "      <td>F</td>\n",
       "      <td>10.00000</td>\n",
       "      <td>27.00000</td>\n",
       "      <td>50.00000</td>\n",
       "      <td>20</td>\n",
       "    </tr>\n",
       "  </tbody>\n",
       "</table>\n",
       "</div>"
      ],
      "text/plain": [
       "  Subject  Age Sex  YearsSinceDx  UPDRSIII_On  UPDRSIII_Off  NFOGQ\n",
       "0  04fcdb   63   M       3.00000     30.00000           NaN      0\n",
       "1  05595e   56   M       8.00000     28.00000           NaN      0\n",
       "2  0967b2   59   M      10.00000     38.00000      48.00000     19\n",
       "3  0967b2   59   M      10.00000     37.00000      44.00000     13\n",
       "4  097078   70   F      10.00000     27.00000      50.00000     20"
      ]
     },
     "execution_count": 21,
     "metadata": {},
     "output_type": "execute_result"
    }
   ],
   "source": [
    "df_subjects.drop('Visit', axis=1,inplace=True)\n",
    "df_subjects.head()"
   ]
  },
  {
   "cell_type": "code",
   "execution_count": 22,
   "metadata": {},
   "outputs": [],
   "source": [
    "final_df1 = pd.merge(final_df, df_subjects, on='Subject')"
   ]
  },
  {
   "cell_type": "code",
   "execution_count": 23,
   "metadata": {},
   "outputs": [
    {
     "data": {
      "text/plain": [
       "(7062672, 18)"
      ]
     },
     "execution_count": 23,
     "metadata": {},
     "output_type": "execute_result"
    }
   ],
   "source": [
    "final_df1.shape"
   ]
  },
  {
   "cell_type": "code",
   "execution_count": 24,
   "metadata": {},
   "outputs": [
    {
     "data": {
      "text/html": [
       "<div>\n",
       "<style scoped>\n",
       "    .dataframe tbody tr th:only-of-type {\n",
       "        vertical-align: middle;\n",
       "    }\n",
       "\n",
       "    .dataframe tbody tr th {\n",
       "        vertical-align: top;\n",
       "    }\n",
       "\n",
       "    .dataframe thead th {\n",
       "        text-align: right;\n",
       "    }\n",
       "</style>\n",
       "<table border=\"1\" class=\"dataframe\">\n",
       "  <thead>\n",
       "    <tr style=\"text-align: right;\">\n",
       "      <th></th>\n",
       "      <th>Id</th>\n",
       "      <th>Time</th>\n",
       "      <th>AccV</th>\n",
       "      <th>AccML</th>\n",
       "      <th>AccAP</th>\n",
       "      <th>StartHesitation</th>\n",
       "      <th>Turn</th>\n",
       "      <th>Walking</th>\n",
       "      <th>Subject</th>\n",
       "      <th>Visit</th>\n",
       "      <th>Test</th>\n",
       "      <th>Medication</th>\n",
       "      <th>Age</th>\n",
       "      <th>Sex</th>\n",
       "      <th>YearsSinceDx</th>\n",
       "      <th>UPDRSIII_On</th>\n",
       "      <th>UPDRSIII_Off</th>\n",
       "      <th>NFOGQ</th>\n",
       "    </tr>\n",
       "  </thead>\n",
       "  <tbody>\n",
       "    <tr>\n",
       "      <th>0</th>\n",
       "      <td>662113c140</td>\n",
       "      <td>0</td>\n",
       "      <td>-9.24163</td>\n",
       "      <td>0.09398</td>\n",
       "      <td>-2.49122</td>\n",
       "      <td>0</td>\n",
       "      <td>0</td>\n",
       "      <td>0</td>\n",
       "      <td>f5586f</td>\n",
       "      <td>4</td>\n",
       "      <td>1</td>\n",
       "      <td>off</td>\n",
       "      <td>65</td>\n",
       "      <td>M</td>\n",
       "      <td>10.00000</td>\n",
       "      <td>43.00000</td>\n",
       "      <td>49.00000</td>\n",
       "      <td>15</td>\n",
       "    </tr>\n",
       "    <tr>\n",
       "      <th>1</th>\n",
       "      <td>662113c140</td>\n",
       "      <td>1</td>\n",
       "      <td>-9.25806</td>\n",
       "      <td>0.10962</td>\n",
       "      <td>-2.51175</td>\n",
       "      <td>0</td>\n",
       "      <td>0</td>\n",
       "      <td>0</td>\n",
       "      <td>f5586f</td>\n",
       "      <td>4</td>\n",
       "      <td>1</td>\n",
       "      <td>off</td>\n",
       "      <td>65</td>\n",
       "      <td>M</td>\n",
       "      <td>10.00000</td>\n",
       "      <td>43.00000</td>\n",
       "      <td>49.00000</td>\n",
       "      <td>15</td>\n",
       "    </tr>\n",
       "    <tr>\n",
       "      <th>2</th>\n",
       "      <td>662113c140</td>\n",
       "      <td>2</td>\n",
       "      <td>-9.25336</td>\n",
       "      <td>0.11202</td>\n",
       "      <td>-2.54780</td>\n",
       "      <td>0</td>\n",
       "      <td>0</td>\n",
       "      <td>0</td>\n",
       "      <td>f5586f</td>\n",
       "      <td>4</td>\n",
       "      <td>1</td>\n",
       "      <td>off</td>\n",
       "      <td>65</td>\n",
       "      <td>M</td>\n",
       "      <td>10.00000</td>\n",
       "      <td>43.00000</td>\n",
       "      <td>49.00000</td>\n",
       "      <td>15</td>\n",
       "    </tr>\n",
       "    <tr>\n",
       "      <th>3</th>\n",
       "      <td>662113c140</td>\n",
       "      <td>3</td>\n",
       "      <td>-9.25150</td>\n",
       "      <td>0.11161</td>\n",
       "      <td>-2.55477</td>\n",
       "      <td>0</td>\n",
       "      <td>0</td>\n",
       "      <td>0</td>\n",
       "      <td>f5586f</td>\n",
       "      <td>4</td>\n",
       "      <td>1</td>\n",
       "      <td>off</td>\n",
       "      <td>65</td>\n",
       "      <td>M</td>\n",
       "      <td>10.00000</td>\n",
       "      <td>43.00000</td>\n",
       "      <td>49.00000</td>\n",
       "      <td>15</td>\n",
       "    </tr>\n",
       "    <tr>\n",
       "      <th>4</th>\n",
       "      <td>662113c140</td>\n",
       "      <td>4</td>\n",
       "      <td>-9.25538</td>\n",
       "      <td>0.11000</td>\n",
       "      <td>-2.54995</td>\n",
       "      <td>0</td>\n",
       "      <td>0</td>\n",
       "      <td>0</td>\n",
       "      <td>f5586f</td>\n",
       "      <td>4</td>\n",
       "      <td>1</td>\n",
       "      <td>off</td>\n",
       "      <td>65</td>\n",
       "      <td>M</td>\n",
       "      <td>10.00000</td>\n",
       "      <td>43.00000</td>\n",
       "      <td>49.00000</td>\n",
       "      <td>15</td>\n",
       "    </tr>\n",
       "  </tbody>\n",
       "</table>\n",
       "</div>"
      ],
      "text/plain": [
       "           Id  Time     AccV   AccML    AccAP  StartHesitation  Turn  Walking  \\\n",
       "0  662113c140     0 -9.24163 0.09398 -2.49122                0     0        0   \n",
       "1  662113c140     1 -9.25806 0.10962 -2.51175                0     0        0   \n",
       "2  662113c140     2 -9.25336 0.11202 -2.54780                0     0        0   \n",
       "3  662113c140     3 -9.25150 0.11161 -2.55477                0     0        0   \n",
       "4  662113c140     4 -9.25538 0.11000 -2.54995                0     0        0   \n",
       "\n",
       "  Subject  Visit  Test Medication  Age Sex  YearsSinceDx  UPDRSIII_On  \\\n",
       "0  f5586f      4     1        off   65   M      10.00000     43.00000   \n",
       "1  f5586f      4     1        off   65   M      10.00000     43.00000   \n",
       "2  f5586f      4     1        off   65   M      10.00000     43.00000   \n",
       "3  f5586f      4     1        off   65   M      10.00000     43.00000   \n",
       "4  f5586f      4     1        off   65   M      10.00000     43.00000   \n",
       "\n",
       "   UPDRSIII_Off  NFOGQ  \n",
       "0      49.00000     15  \n",
       "1      49.00000     15  \n",
       "2      49.00000     15  \n",
       "3      49.00000     15  \n",
       "4      49.00000     15  "
      ]
     },
     "execution_count": 24,
     "metadata": {},
     "output_type": "execute_result"
    }
   ],
   "source": [
    "final_df1.head()"
   ]
  },
  {
   "cell_type": "code",
   "execution_count": 25,
   "metadata": {},
   "outputs": [
    {
     "data": {
      "text/plain": [
       "<AxesSubplot:>"
      ]
     },
     "execution_count": 25,
     "metadata": {},
     "output_type": "execute_result"
    },
    {
     "data": {
      "image/png": "[encoded data removed]",
      "text/plain": [
       "<Figure size 432x288 with 1 Axes>"
      ]
     },
     "metadata": {
      "needs_background": "light"
     },
     "output_type": "display_data"
    }
   ],
   "source": [
    "final_df1.isna().sum().plot.bar()"
   ]
  },
  {
   "cell_type": "code",
   "execution_count": 26,
   "metadata": {},
   "outputs": [],
   "source": [
    "final_df1.drop([\"UPDRSIII_On\",\"UPDRSIII_Off\"],axis=1,inplace=True)"
   ]
  },
  {
   "cell_type": "code",
   "execution_count": 27,
   "metadata": {},
   "outputs": [
    {
     "data": {
      "text/html": [
       "<div>\n",
       "<style scoped>\n",
       "    .dataframe tbody tr th:only-of-type {\n",
       "        vertical-align: middle;\n",
       "    }\n",
       "\n",
       "    .dataframe tbody tr th {\n",
       "        vertical-align: top;\n",
       "    }\n",
       "\n",
       "    .dataframe thead th {\n",
       "        text-align: right;\n",
       "    }\n",
       "</style>\n",
       "<table border=\"1\" class=\"dataframe\">\n",
       "  <thead>\n",
       "    <tr style=\"text-align: right;\">\n",
       "      <th></th>\n",
       "      <th>Id</th>\n",
       "      <th>Time</th>\n",
       "      <th>AccV</th>\n",
       "      <th>AccML</th>\n",
       "      <th>AccAP</th>\n",
       "      <th>StartHesitation</th>\n",
       "      <th>Turn</th>\n",
       "      <th>Walking</th>\n",
       "      <th>Subject</th>\n",
       "      <th>Visit</th>\n",
       "      <th>Test</th>\n",
       "      <th>Medication</th>\n",
       "      <th>Age</th>\n",
       "      <th>Sex</th>\n",
       "      <th>YearsSinceDx</th>\n",
       "      <th>NFOGQ</th>\n",
       "    </tr>\n",
       "  </thead>\n",
       "  <tbody>\n",
       "    <tr>\n",
       "      <th>0</th>\n",
       "      <td>662113c140</td>\n",
       "      <td>0</td>\n",
       "      <td>-9.24163</td>\n",
       "      <td>0.09398</td>\n",
       "      <td>-2.49122</td>\n",
       "      <td>0</td>\n",
       "      <td>0</td>\n",
       "      <td>0</td>\n",
       "      <td>f5586f</td>\n",
       "      <td>4</td>\n",
       "      <td>1</td>\n",
       "      <td>off</td>\n",
       "      <td>65</td>\n",
       "      <td>M</td>\n",
       "      <td>10.00000</td>\n",
       "      <td>15</td>\n",
       "    </tr>\n",
       "    <tr>\n",
       "      <th>1</th>\n",
       "      <td>662113c140</td>\n",
       "      <td>1</td>\n",
       "      <td>-9.25806</td>\n",
       "      <td>0.10962</td>\n",
       "      <td>-2.51175</td>\n",
       "      <td>0</td>\n",
       "      <td>0</td>\n",
       "      <td>0</td>\n",
       "      <td>f5586f</td>\n",
       "      <td>4</td>\n",
       "      <td>1</td>\n",
       "      <td>off</td>\n",
       "      <td>65</td>\n",
       "      <td>M</td>\n",
       "      <td>10.00000</td>\n",
       "      <td>15</td>\n",
       "    </tr>\n",
       "    <tr>\n",
       "      <th>2</th>\n",
       "      <td>662113c140</td>\n",
       "      <td>2</td>\n",
       "      <td>-9.25336</td>\n",
       "      <td>0.11202</td>\n",
       "      <td>-2.54780</td>\n",
       "      <td>0</td>\n",
       "      <td>0</td>\n",
       "      <td>0</td>\n",
       "      <td>f5586f</td>\n",
       "      <td>4</td>\n",
       "      <td>1</td>\n",
       "      <td>off</td>\n",
       "      <td>65</td>\n",
       "      <td>M</td>\n",
       "      <td>10.00000</td>\n",
       "      <td>15</td>\n",
       "    </tr>\n",
       "    <tr>\n",
       "      <th>3</th>\n",
       "      <td>662113c140</td>\n",
       "      <td>3</td>\n",
       "      <td>-9.25150</td>\n",
       "      <td>0.11161</td>\n",
       "      <td>-2.55477</td>\n",
       "      <td>0</td>\n",
       "      <td>0</td>\n",
       "      <td>0</td>\n",
       "      <td>f5586f</td>\n",
       "      <td>4</td>\n",
       "      <td>1</td>\n",
       "      <td>off</td>\n",
       "      <td>65</td>\n",
       "      <td>M</td>\n",
       "      <td>10.00000</td>\n",
       "      <td>15</td>\n",
       "    </tr>\n",
       "    <tr>\n",
       "      <th>4</th>\n",
       "      <td>662113c140</td>\n",
       "      <td>4</td>\n",
       "      <td>-9.25538</td>\n",
       "      <td>0.11000</td>\n",
       "      <td>-2.54995</td>\n",
       "      <td>0</td>\n",
       "      <td>0</td>\n",
       "      <td>0</td>\n",
       "      <td>f5586f</td>\n",
       "      <td>4</td>\n",
       "      <td>1</td>\n",
       "      <td>off</td>\n",
       "      <td>65</td>\n",
       "      <td>M</td>\n",
       "      <td>10.00000</td>\n",
       "      <td>15</td>\n",
       "    </tr>\n",
       "  </tbody>\n",
       "</table>\n",
       "</div>"
      ],
      "text/plain": [
       "           Id  Time     AccV   AccML    AccAP  StartHesitation  Turn  Walking  \\\n",
       "0  662113c140     0 -9.24163 0.09398 -2.49122                0     0        0   \n",
       "1  662113c140     1 -9.25806 0.10962 -2.51175                0     0        0   \n",
       "2  662113c140     2 -9.25336 0.11202 -2.54780                0     0        0   \n",
       "3  662113c140     3 -9.25150 0.11161 -2.55477                0     0        0   \n",
       "4  662113c140     4 -9.25538 0.11000 -2.54995                0     0        0   \n",
       "\n",
       "  Subject  Visit  Test Medication  Age Sex  YearsSinceDx  NFOGQ  \n",
       "0  f5586f      4     1        off   65   M      10.00000     15  \n",
       "1  f5586f      4     1        off   65   M      10.00000     15  \n",
       "2  f5586f      4     1        off   65   M      10.00000     15  \n",
       "3  f5586f      4     1        off   65   M      10.00000     15  \n",
       "4  f5586f      4     1        off   65   M      10.00000     15  "
      ]
     },
     "execution_count": 27,
     "metadata": {},
     "output_type": "execute_result"
    }
   ],
   "source": [
    "final_df1.head()"
   ]
  },
  {
   "cell_type": "code",
   "execution_count": 28,
   "metadata": {},
   "outputs": [
    {
     "data": {
      "text/plain": [
       "Id                  object\n",
       "Time                 int64\n",
       "AccV               float64\n",
       "AccML              float64\n",
       "AccAP              float64\n",
       "StartHesitation      int64\n",
       "Turn                 int64\n",
       "Walking              int64\n",
       "Subject             object\n",
       "Visit                int64\n",
       "Test                 int64\n",
       "Medication          object\n",
       "Age                  int64\n",
       "Sex                 object\n",
       "YearsSinceDx       float64\n",
       "NFOGQ                int64\n",
       "dtype: object"
      ]
     },
     "execution_count": 28,
     "metadata": {},
     "output_type": "execute_result"
    }
   ],
   "source": [
    "final_df1.dtypes"
   ]
  },
  {
   "cell_type": "code",
   "execution_count": 29,
   "metadata": {},
   "outputs": [],
   "source": [
    "final_df1['StartHesitation'] = final_df1['StartHesitation'].astype(int)\n",
    "final_df1['Turn'] = final_df1['Turn'].astype(int)\n",
    "final_df1['Walking'] = final_df1['Walking'].astype(int)\n",
    "final_df1['Sex'] = final_df1['Sex'].astype(str)\n",
    "final_df1['Medication'] = final_df1['Medication'].astype(str)"
   ]
  },
  {
   "cell_type": "code",
   "execution_count": 30,
   "metadata": {},
   "outputs": [],
   "source": [
    "gender_dummies = pd.get_dummies(final_df1['Sex'], prefix='gender')\n",
    "df = pd.concat([final_df1, gender_dummies], axis=1)"
   ]
  },
  {
   "cell_type": "code",
   "execution_count": 31,
   "metadata": {},
   "outputs": [],
   "source": [
    "df.drop('Sex', axis=1,inplace=True)"
   ]
  },
  {
   "cell_type": "code",
   "execution_count": 32,
   "metadata": {},
   "outputs": [
    {
     "data": {
      "text/html": [
       "<div>\n",
       "<style scoped>\n",
       "    .dataframe tbody tr th:only-of-type {\n",
       "        vertical-align: middle;\n",
       "    }\n",
       "\n",
       "    .dataframe tbody tr th {\n",
       "        vertical-align: top;\n",
       "    }\n",
       "\n",
       "    .dataframe thead th {\n",
       "        text-align: right;\n",
       "    }\n",
       "</style>\n",
       "<table border=\"1\" class=\"dataframe\">\n",
       "  <thead>\n",
       "    <tr style=\"text-align: right;\">\n",
       "      <th></th>\n",
       "      <th>Id</th>\n",
       "      <th>Time</th>\n",
       "      <th>AccV</th>\n",
       "      <th>AccML</th>\n",
       "      <th>AccAP</th>\n",
       "      <th>StartHesitation</th>\n",
       "      <th>Turn</th>\n",
       "      <th>Walking</th>\n",
       "      <th>Subject</th>\n",
       "      <th>Visit</th>\n",
       "      <th>Test</th>\n",
       "      <th>Medication</th>\n",
       "      <th>Age</th>\n",
       "      <th>YearsSinceDx</th>\n",
       "      <th>NFOGQ</th>\n",
       "      <th>gender_F</th>\n",
       "      <th>gender_M</th>\n",
       "    </tr>\n",
       "  </thead>\n",
       "  <tbody>\n",
       "    <tr>\n",
       "      <th>7062662</th>\n",
       "      <td>be8fdfa712</td>\n",
       "      <td>62310</td>\n",
       "      <td>-9.82314</td>\n",
       "      <td>-0.87696</td>\n",
       "      <td>-0.80145</td>\n",
       "      <td>0</td>\n",
       "      <td>0</td>\n",
       "      <td>0</td>\n",
       "      <td>11404e</td>\n",
       "      <td>2</td>\n",
       "      <td>2</td>\n",
       "      <td>off</td>\n",
       "      <td>67</td>\n",
       "      <td>4.00000</td>\n",
       "      <td>29</td>\n",
       "      <td>1</td>\n",
       "      <td>0</td>\n",
       "    </tr>\n",
       "    <tr>\n",
       "      <th>7062663</th>\n",
       "      <td>be8fdfa712</td>\n",
       "      <td>62311</td>\n",
       "      <td>-9.83544</td>\n",
       "      <td>-0.91912</td>\n",
       "      <td>-0.82608</td>\n",
       "      <td>0</td>\n",
       "      <td>0</td>\n",
       "      <td>0</td>\n",
       "      <td>11404e</td>\n",
       "      <td>2</td>\n",
       "      <td>2</td>\n",
       "      <td>off</td>\n",
       "      <td>67</td>\n",
       "      <td>4.00000</td>\n",
       "      <td>29</td>\n",
       "      <td>1</td>\n",
       "      <td>0</td>\n",
       "    </tr>\n",
       "    <tr>\n",
       "      <th>7062664</th>\n",
       "      <td>be8fdfa712</td>\n",
       "      <td>62312</td>\n",
       "      <td>-9.84430</td>\n",
       "      <td>-0.93866</td>\n",
       "      <td>-0.84694</td>\n",
       "      <td>0</td>\n",
       "      <td>0</td>\n",
       "      <td>0</td>\n",
       "      <td>11404e</td>\n",
       "      <td>2</td>\n",
       "      <td>2</td>\n",
       "      <td>off</td>\n",
       "      <td>67</td>\n",
       "      <td>4.00000</td>\n",
       "      <td>29</td>\n",
       "      <td>1</td>\n",
       "      <td>0</td>\n",
       "    </tr>\n",
       "    <tr>\n",
       "      <th>7062665</th>\n",
       "      <td>be8fdfa712</td>\n",
       "      <td>62313</td>\n",
       "      <td>-9.83609</td>\n",
       "      <td>-0.93281</td>\n",
       "      <td>-0.85064</td>\n",
       "      <td>0</td>\n",
       "      <td>0</td>\n",
       "      <td>0</td>\n",
       "      <td>11404e</td>\n",
       "      <td>2</td>\n",
       "      <td>2</td>\n",
       "      <td>off</td>\n",
       "      <td>67</td>\n",
       "      <td>4.00000</td>\n",
       "      <td>29</td>\n",
       "      <td>1</td>\n",
       "      <td>0</td>\n",
       "    </tr>\n",
       "    <tr>\n",
       "      <th>7062666</th>\n",
       "      <td>be8fdfa712</td>\n",
       "      <td>62314</td>\n",
       "      <td>-9.83201</td>\n",
       "      <td>-0.90343</td>\n",
       "      <td>-0.85581</td>\n",
       "      <td>0</td>\n",
       "      <td>0</td>\n",
       "      <td>0</td>\n",
       "      <td>11404e</td>\n",
       "      <td>2</td>\n",
       "      <td>2</td>\n",
       "      <td>off</td>\n",
       "      <td>67</td>\n",
       "      <td>4.00000</td>\n",
       "      <td>29</td>\n",
       "      <td>1</td>\n",
       "      <td>0</td>\n",
       "    </tr>\n",
       "    <tr>\n",
       "      <th>7062667</th>\n",
       "      <td>be8fdfa712</td>\n",
       "      <td>62315</td>\n",
       "      <td>-9.83641</td>\n",
       "      <td>-0.86480</td>\n",
       "      <td>-0.86916</td>\n",
       "      <td>0</td>\n",
       "      <td>0</td>\n",
       "      <td>0</td>\n",
       "      <td>11404e</td>\n",
       "      <td>2</td>\n",
       "      <td>2</td>\n",
       "      <td>off</td>\n",
       "      <td>67</td>\n",
       "      <td>4.00000</td>\n",
       "      <td>29</td>\n",
       "      <td>1</td>\n",
       "      <td>0</td>\n",
       "    </tr>\n",
       "    <tr>\n",
       "      <th>7062668</th>\n",
       "      <td>be8fdfa712</td>\n",
       "      <td>62316</td>\n",
       "      <td>-9.84140</td>\n",
       "      <td>-0.84061</td>\n",
       "      <td>-0.86765</td>\n",
       "      <td>0</td>\n",
       "      <td>0</td>\n",
       "      <td>0</td>\n",
       "      <td>11404e</td>\n",
       "      <td>2</td>\n",
       "      <td>2</td>\n",
       "      <td>off</td>\n",
       "      <td>67</td>\n",
       "      <td>4.00000</td>\n",
       "      <td>29</td>\n",
       "      <td>1</td>\n",
       "      <td>0</td>\n",
       "    </tr>\n",
       "    <tr>\n",
       "      <th>7062669</th>\n",
       "      <td>be8fdfa712</td>\n",
       "      <td>62317</td>\n",
       "      <td>-9.84499</td>\n",
       "      <td>-0.81195</td>\n",
       "      <td>-0.87878</td>\n",
       "      <td>0</td>\n",
       "      <td>0</td>\n",
       "      <td>0</td>\n",
       "      <td>11404e</td>\n",
       "      <td>2</td>\n",
       "      <td>2</td>\n",
       "      <td>off</td>\n",
       "      <td>67</td>\n",
       "      <td>4.00000</td>\n",
       "      <td>29</td>\n",
       "      <td>1</td>\n",
       "      <td>0</td>\n",
       "    </tr>\n",
       "    <tr>\n",
       "      <th>7062670</th>\n",
       "      <td>be8fdfa712</td>\n",
       "      <td>62318</td>\n",
       "      <td>-9.84259</td>\n",
       "      <td>-0.81492</td>\n",
       "      <td>-0.87580</td>\n",
       "      <td>0</td>\n",
       "      <td>0</td>\n",
       "      <td>0</td>\n",
       "      <td>11404e</td>\n",
       "      <td>2</td>\n",
       "      <td>2</td>\n",
       "      <td>off</td>\n",
       "      <td>67</td>\n",
       "      <td>4.00000</td>\n",
       "      <td>29</td>\n",
       "      <td>1</td>\n",
       "      <td>0</td>\n",
       "    </tr>\n",
       "    <tr>\n",
       "      <th>7062671</th>\n",
       "      <td>be8fdfa712</td>\n",
       "      <td>62319</td>\n",
       "      <td>-9.83934</td>\n",
       "      <td>-0.83012</td>\n",
       "      <td>-0.87061</td>\n",
       "      <td>0</td>\n",
       "      <td>0</td>\n",
       "      <td>0</td>\n",
       "      <td>11404e</td>\n",
       "      <td>2</td>\n",
       "      <td>2</td>\n",
       "      <td>off</td>\n",
       "      <td>67</td>\n",
       "      <td>4.00000</td>\n",
       "      <td>29</td>\n",
       "      <td>1</td>\n",
       "      <td>0</td>\n",
       "    </tr>\n",
       "  </tbody>\n",
       "</table>\n",
       "</div>"
      ],
      "text/plain": [
       "                 Id   Time     AccV    AccML    AccAP  StartHesitation  Turn  \\\n",
       "7062662  be8fdfa712  62310 -9.82314 -0.87696 -0.80145                0     0   \n",
       "7062663  be8fdfa712  62311 -9.83544 -0.91912 -0.82608                0     0   \n",
       "7062664  be8fdfa712  62312 -9.84430 -0.93866 -0.84694                0     0   \n",
       "7062665  be8fdfa712  62313 -9.83609 -0.93281 -0.85064                0     0   \n",
       "7062666  be8fdfa712  62314 -9.83201 -0.90343 -0.85581                0     0   \n",
       "7062667  be8fdfa712  62315 -9.83641 -0.86480 -0.86916                0     0   \n",
       "7062668  be8fdfa712  62316 -9.84140 -0.84061 -0.86765                0     0   \n",
       "7062669  be8fdfa712  62317 -9.84499 -0.81195 -0.87878                0     0   \n",
       "7062670  be8fdfa712  62318 -9.84259 -0.81492 -0.87580                0     0   \n",
       "7062671  be8fdfa712  62319 -9.83934 -0.83012 -0.87061                0     0   \n",
       "\n",
       "         Walking Subject  Visit  Test Medication  Age  YearsSinceDx  NFOGQ  \\\n",
       "7062662        0  11404e      2     2        off   67       4.00000     29   \n",
       "7062663        0  11404e      2     2        off   67       4.00000     29   \n",
       "7062664        0  11404e      2     2        off   67       4.00000     29   \n",
       "7062665        0  11404e      2     2        off   67       4.00000     29   \n",
       "7062666        0  11404e      2     2        off   67       4.00000     29   \n",
       "7062667        0  11404e      2     2        off   67       4.00000     29   \n",
       "7062668        0  11404e      2     2        off   67       4.00000     29   \n",
       "7062669        0  11404e      2     2        off   67       4.00000     29   \n",
       "7062670        0  11404e      2     2        off   67       4.00000     29   \n",
       "7062671        0  11404e      2     2        off   67       4.00000     29   \n",
       "\n",
       "         gender_F  gender_M  \n",
       "7062662         1         0  \n",
       "7062663         1         0  \n",
       "7062664         1         0  \n",
       "7062665         1         0  \n",
       "7062666         1         0  \n",
       "7062667         1         0  \n",
       "7062668         1         0  \n",
       "7062669         1         0  \n",
       "7062670         1         0  \n",
       "7062671         1         0  "
      ]
     },
     "execution_count": 32,
     "metadata": {},
     "output_type": "execute_result"
    }
   ],
   "source": [
    "df.tail(10)"
   ]
  },
  {
   "cell_type": "code",
   "execution_count": 33,
   "metadata": {},
   "outputs": [],
   "source": [
    "Med_dummies = pd.get_dummies(final_df1['Medication'], prefix='med')\n",
    "df = pd.concat([df, Med_dummies], axis=1)\n",
    "df.drop('Medication', axis=1,inplace=True)"
   ]
  },
  {
   "cell_type": "code",
   "execution_count": 34,
   "metadata": {},
   "outputs": [
    {
     "data": {
      "text/html": [
       "<div>\n",
       "<style scoped>\n",
       "    .dataframe tbody tr th:only-of-type {\n",
       "        vertical-align: middle;\n",
       "    }\n",
       "\n",
       "    .dataframe tbody tr th {\n",
       "        vertical-align: top;\n",
       "    }\n",
       "\n",
       "    .dataframe thead th {\n",
       "        text-align: right;\n",
       "    }\n",
       "</style>\n",
       "<table border=\"1\" class=\"dataframe\">\n",
       "  <thead>\n",
       "    <tr style=\"text-align: right;\">\n",
       "      <th></th>\n",
       "      <th>Id</th>\n",
       "      <th>Time</th>\n",
       "      <th>AccV</th>\n",
       "      <th>AccML</th>\n",
       "      <th>AccAP</th>\n",
       "      <th>StartHesitation</th>\n",
       "      <th>Turn</th>\n",
       "      <th>Walking</th>\n",
       "      <th>Subject</th>\n",
       "      <th>Visit</th>\n",
       "      <th>Test</th>\n",
       "      <th>Age</th>\n",
       "      <th>YearsSinceDx</th>\n",
       "      <th>NFOGQ</th>\n",
       "      <th>gender_F</th>\n",
       "      <th>gender_M</th>\n",
       "      <th>med_off</th>\n",
       "      <th>med_on</th>\n",
       "    </tr>\n",
       "  </thead>\n",
       "  <tbody>\n",
       "    <tr>\n",
       "      <th>7062662</th>\n",
       "      <td>be8fdfa712</td>\n",
       "      <td>62310</td>\n",
       "      <td>-9.82314</td>\n",
       "      <td>-0.87696</td>\n",
       "      <td>-0.80145</td>\n",
       "      <td>0</td>\n",
       "      <td>0</td>\n",
       "      <td>0</td>\n",
       "      <td>11404e</td>\n",
       "      <td>2</td>\n",
       "      <td>2</td>\n",
       "      <td>67</td>\n",
       "      <td>4.00000</td>\n",
       "      <td>29</td>\n",
       "      <td>1</td>\n",
       "      <td>0</td>\n",
       "      <td>1</td>\n",
       "      <td>0</td>\n",
       "    </tr>\n",
       "    <tr>\n",
       "      <th>7062663</th>\n",
       "      <td>be8fdfa712</td>\n",
       "      <td>62311</td>\n",
       "      <td>-9.83544</td>\n",
       "      <td>-0.91912</td>\n",
       "      <td>-0.82608</td>\n",
       "      <td>0</td>\n",
       "      <td>0</td>\n",
       "      <td>0</td>\n",
       "      <td>11404e</td>\n",
       "      <td>2</td>\n",
       "      <td>2</td>\n",
       "      <td>67</td>\n",
       "      <td>4.00000</td>\n",
       "      <td>29</td>\n",
       "      <td>1</td>\n",
       "      <td>0</td>\n",
       "      <td>1</td>\n",
       "      <td>0</td>\n",
       "    </tr>\n",
       "    <tr>\n",
       "      <th>7062664</th>\n",
       "      <td>be8fdfa712</td>\n",
       "      <td>62312</td>\n",
       "      <td>-9.84430</td>\n",
       "      <td>-0.93866</td>\n",
       "      <td>-0.84694</td>\n",
       "      <td>0</td>\n",
       "      <td>0</td>\n",
       "      <td>0</td>\n",
       "      <td>11404e</td>\n",
       "      <td>2</td>\n",
       "      <td>2</td>\n",
       "      <td>67</td>\n",
       "      <td>4.00000</td>\n",
       "      <td>29</td>\n",
       "      <td>1</td>\n",
       "      <td>0</td>\n",
       "      <td>1</td>\n",
       "      <td>0</td>\n",
       "    </tr>\n",
       "    <tr>\n",
       "      <th>7062665</th>\n",
       "      <td>be8fdfa712</td>\n",
       "      <td>62313</td>\n",
       "      <td>-9.83609</td>\n",
       "      <td>-0.93281</td>\n",
       "      <td>-0.85064</td>\n",
       "      <td>0</td>\n",
       "      <td>0</td>\n",
       "      <td>0</td>\n",
       "      <td>11404e</td>\n",
       "      <td>2</td>\n",
       "      <td>2</td>\n",
       "      <td>67</td>\n",
       "      <td>4.00000</td>\n",
       "      <td>29</td>\n",
       "      <td>1</td>\n",
       "      <td>0</td>\n",
       "      <td>1</td>\n",
       "      <td>0</td>\n",
       "    </tr>\n",
       "    <tr>\n",
       "      <th>7062666</th>\n",
       "      <td>be8fdfa712</td>\n",
       "      <td>62314</td>\n",
       "      <td>-9.83201</td>\n",
       "      <td>-0.90343</td>\n",
       "      <td>-0.85581</td>\n",
       "      <td>0</td>\n",
       "      <td>0</td>\n",
       "      <td>0</td>\n",
       "      <td>11404e</td>\n",
       "      <td>2</td>\n",
       "      <td>2</td>\n",
       "      <td>67</td>\n",
       "      <td>4.00000</td>\n",
       "      <td>29</td>\n",
       "      <td>1</td>\n",
       "      <td>0</td>\n",
       "      <td>1</td>\n",
       "      <td>0</td>\n",
       "    </tr>\n",
       "    <tr>\n",
       "      <th>7062667</th>\n",
       "      <td>be8fdfa712</td>\n",
       "      <td>62315</td>\n",
       "      <td>-9.83641</td>\n",
       "      <td>-0.86480</td>\n",
       "      <td>-0.86916</td>\n",
       "      <td>0</td>\n",
       "      <td>0</td>\n",
       "      <td>0</td>\n",
       "      <td>11404e</td>\n",
       "      <td>2</td>\n",
       "      <td>2</td>\n",
       "      <td>67</td>\n",
       "      <td>4.00000</td>\n",
       "      <td>29</td>\n",
       "      <td>1</td>\n",
       "      <td>0</td>\n",
       "      <td>1</td>\n",
       "      <td>0</td>\n",
       "    </tr>\n",
       "    <tr>\n",
       "      <th>7062668</th>\n",
       "      <td>be8fdfa712</td>\n",
       "      <td>62316</td>\n",
       "      <td>-9.84140</td>\n",
       "      <td>-0.84061</td>\n",
       "      <td>-0.86765</td>\n",
       "      <td>0</td>\n",
       "      <td>0</td>\n",
       "      <td>0</td>\n",
       "      <td>11404e</td>\n",
       "      <td>2</td>\n",
       "      <td>2</td>\n",
       "      <td>67</td>\n",
       "      <td>4.00000</td>\n",
       "      <td>29</td>\n",
       "      <td>1</td>\n",
       "      <td>0</td>\n",
       "      <td>1</td>\n",
       "      <td>0</td>\n",
       "    </tr>\n",
       "    <tr>\n",
       "      <th>7062669</th>\n",
       "      <td>be8fdfa712</td>\n",
       "      <td>62317</td>\n",
       "      <td>-9.84499</td>\n",
       "      <td>-0.81195</td>\n",
       "      <td>-0.87878</td>\n",
       "      <td>0</td>\n",
       "      <td>0</td>\n",
       "      <td>0</td>\n",
       "      <td>11404e</td>\n",
       "      <td>2</td>\n",
       "      <td>2</td>\n",
       "      <td>67</td>\n",
       "      <td>4.00000</td>\n",
       "      <td>29</td>\n",
       "      <td>1</td>\n",
       "      <td>0</td>\n",
       "      <td>1</td>\n",
       "      <td>0</td>\n",
       "    </tr>\n",
       "    <tr>\n",
       "      <th>7062670</th>\n",
       "      <td>be8fdfa712</td>\n",
       "      <td>62318</td>\n",
       "      <td>-9.84259</td>\n",
       "      <td>-0.81492</td>\n",
       "      <td>-0.87580</td>\n",
       "      <td>0</td>\n",
       "      <td>0</td>\n",
       "      <td>0</td>\n",
       "      <td>11404e</td>\n",
       "      <td>2</td>\n",
       "      <td>2</td>\n",
       "      <td>67</td>\n",
       "      <td>4.00000</td>\n",
       "      <td>29</td>\n",
       "      <td>1</td>\n",
       "      <td>0</td>\n",
       "      <td>1</td>\n",
       "      <td>0</td>\n",
       "    </tr>\n",
       "    <tr>\n",
       "      <th>7062671</th>\n",
       "      <td>be8fdfa712</td>\n",
       "      <td>62319</td>\n",
       "      <td>-9.83934</td>\n",
       "      <td>-0.83012</td>\n",
       "      <td>-0.87061</td>\n",
       "      <td>0</td>\n",
       "      <td>0</td>\n",
       "      <td>0</td>\n",
       "      <td>11404e</td>\n",
       "      <td>2</td>\n",
       "      <td>2</td>\n",
       "      <td>67</td>\n",
       "      <td>4.00000</td>\n",
       "      <td>29</td>\n",
       "      <td>1</td>\n",
       "      <td>0</td>\n",
       "      <td>1</td>\n",
       "      <td>0</td>\n",
       "    </tr>\n",
       "  </tbody>\n",
       "</table>\n",
       "</div>"
      ],
      "text/plain": [
       "                 Id   Time     AccV    AccML    AccAP  StartHesitation  Turn  \\\n",
       "7062662  be8fdfa712  62310 -9.82314 -0.87696 -0.80145                0     0   \n",
       "7062663  be8fdfa712  62311 -9.83544 -0.91912 -0.82608                0     0   \n",
       "7062664  be8fdfa712  62312 -9.84430 -0.93866 -0.84694                0     0   \n",
       "7062665  be8fdfa712  62313 -9.83609 -0.93281 -0.85064                0     0   \n",
       "7062666  be8fdfa712  62314 -9.83201 -0.90343 -0.85581                0     0   \n",
       "7062667  be8fdfa712  62315 -9.83641 -0.86480 -0.86916                0     0   \n",
       "7062668  be8fdfa712  62316 -9.84140 -0.84061 -0.86765                0     0   \n",
       "7062669  be8fdfa712  62317 -9.84499 -0.81195 -0.87878                0     0   \n",
       "7062670  be8fdfa712  62318 -9.84259 -0.81492 -0.87580                0     0   \n",
       "7062671  be8fdfa712  62319 -9.83934 -0.83012 -0.87061                0     0   \n",
       "\n",
       "         Walking Subject  Visit  Test  Age  YearsSinceDx  NFOGQ  gender_F  \\\n",
       "7062662        0  11404e      2     2   67       4.00000     29         1   \n",
       "7062663        0  11404e      2     2   67       4.00000     29         1   \n",
       "7062664        0  11404e      2     2   67       4.00000     29         1   \n",
       "7062665        0  11404e      2     2   67       4.00000     29         1   \n",
       "7062666        0  11404e      2     2   67       4.00000     29         1   \n",
       "7062667        0  11404e      2     2   67       4.00000     29         1   \n",
       "7062668        0  11404e      2     2   67       4.00000     29         1   \n",
       "7062669        0  11404e      2     2   67       4.00000     29         1   \n",
       "7062670        0  11404e      2     2   67       4.00000     29         1   \n",
       "7062671        0  11404e      2     2   67       4.00000     29         1   \n",
       "\n",
       "         gender_M  med_off  med_on  \n",
       "7062662         0        1       0  \n",
       "7062663         0        1       0  \n",
       "7062664         0        1       0  \n",
       "7062665         0        1       0  \n",
       "7062666         0        1       0  \n",
       "7062667         0        1       0  \n",
       "7062668         0        1       0  \n",
       "7062669         0        1       0  \n",
       "7062670         0        1       0  \n",
       "7062671         0        1       0  "
      ]
     },
     "execution_count": 34,
     "metadata": {},
     "output_type": "execute_result"
    }
   ],
   "source": [
    "df.tail(10)"
   ]
  },
  {
   "cell_type": "code",
   "execution_count": 35,
   "metadata": {},
   "outputs": [
    {
     "data": {
      "text/html": [
       "<div>\n",
       "<style scoped>\n",
       "    .dataframe tbody tr th:only-of-type {\n",
       "        vertical-align: middle;\n",
       "    }\n",
       "\n",
       "    .dataframe tbody tr th {\n",
       "        vertical-align: top;\n",
       "    }\n",
       "\n",
       "    .dataframe thead th {\n",
       "        text-align: right;\n",
       "    }\n",
       "</style>\n",
       "<table border=\"1\" class=\"dataframe\">\n",
       "  <thead>\n",
       "    <tr style=\"text-align: right;\">\n",
       "      <th></th>\n",
       "      <th>Id</th>\n",
       "      <th>Time</th>\n",
       "      <th>AccV</th>\n",
       "      <th>AccML</th>\n",
       "      <th>AccAP</th>\n",
       "      <th>StartHesitation</th>\n",
       "      <th>Turn</th>\n",
       "      <th>Walking</th>\n",
       "      <th>Subject</th>\n",
       "      <th>Visit</th>\n",
       "      <th>Test</th>\n",
       "      <th>Age</th>\n",
       "      <th>YearsSinceDx</th>\n",
       "      <th>NFOGQ</th>\n",
       "      <th>gender_F</th>\n",
       "      <th>gender_M</th>\n",
       "      <th>med_off</th>\n",
       "      <th>med_on</th>\n",
       "    </tr>\n",
       "  </thead>\n",
       "  <tbody>\n",
       "    <tr>\n",
       "      <th>0</th>\n",
       "      <td>662113c140</td>\n",
       "      <td>0</td>\n",
       "      <td>-9.24163</td>\n",
       "      <td>0.09398</td>\n",
       "      <td>-2.49122</td>\n",
       "      <td>0</td>\n",
       "      <td>0</td>\n",
       "      <td>0</td>\n",
       "      <td>f5586f</td>\n",
       "      <td>4</td>\n",
       "      <td>1</td>\n",
       "      <td>65</td>\n",
       "      <td>10.00000</td>\n",
       "      <td>15</td>\n",
       "      <td>0</td>\n",
       "      <td>1</td>\n",
       "      <td>1</td>\n",
       "      <td>0</td>\n",
       "    </tr>\n",
       "    <tr>\n",
       "      <th>1</th>\n",
       "      <td>662113c140</td>\n",
       "      <td>1</td>\n",
       "      <td>-9.25806</td>\n",
       "      <td>0.10962</td>\n",
       "      <td>-2.51175</td>\n",
       "      <td>0</td>\n",
       "      <td>0</td>\n",
       "      <td>0</td>\n",
       "      <td>f5586f</td>\n",
       "      <td>4</td>\n",
       "      <td>1</td>\n",
       "      <td>65</td>\n",
       "      <td>10.00000</td>\n",
       "      <td>15</td>\n",
       "      <td>0</td>\n",
       "      <td>1</td>\n",
       "      <td>1</td>\n",
       "      <td>0</td>\n",
       "    </tr>\n",
       "    <tr>\n",
       "      <th>2</th>\n",
       "      <td>662113c140</td>\n",
       "      <td>2</td>\n",
       "      <td>-9.25336</td>\n",
       "      <td>0.11202</td>\n",
       "      <td>-2.54780</td>\n",
       "      <td>0</td>\n",
       "      <td>0</td>\n",
       "      <td>0</td>\n",
       "      <td>f5586f</td>\n",
       "      <td>4</td>\n",
       "      <td>1</td>\n",
       "      <td>65</td>\n",
       "      <td>10.00000</td>\n",
       "      <td>15</td>\n",
       "      <td>0</td>\n",
       "      <td>1</td>\n",
       "      <td>1</td>\n",
       "      <td>0</td>\n",
       "    </tr>\n",
       "    <tr>\n",
       "      <th>3</th>\n",
       "      <td>662113c140</td>\n",
       "      <td>3</td>\n",
       "      <td>-9.25150</td>\n",
       "      <td>0.11161</td>\n",
       "      <td>-2.55477</td>\n",
       "      <td>0</td>\n",
       "      <td>0</td>\n",
       "      <td>0</td>\n",
       "      <td>f5586f</td>\n",
       "      <td>4</td>\n",
       "      <td>1</td>\n",
       "      <td>65</td>\n",
       "      <td>10.00000</td>\n",
       "      <td>15</td>\n",
       "      <td>0</td>\n",
       "      <td>1</td>\n",
       "      <td>1</td>\n",
       "      <td>0</td>\n",
       "    </tr>\n",
       "    <tr>\n",
       "      <th>4</th>\n",
       "      <td>662113c140</td>\n",
       "      <td>4</td>\n",
       "      <td>-9.25538</td>\n",
       "      <td>0.11000</td>\n",
       "      <td>-2.54995</td>\n",
       "      <td>0</td>\n",
       "      <td>0</td>\n",
       "      <td>0</td>\n",
       "      <td>f5586f</td>\n",
       "      <td>4</td>\n",
       "      <td>1</td>\n",
       "      <td>65</td>\n",
       "      <td>10.00000</td>\n",
       "      <td>15</td>\n",
       "      <td>0</td>\n",
       "      <td>1</td>\n",
       "      <td>1</td>\n",
       "      <td>0</td>\n",
       "    </tr>\n",
       "  </tbody>\n",
       "</table>\n",
       "</div>"
      ],
      "text/plain": [
       "           Id  Time     AccV   AccML    AccAP  StartHesitation  Turn  Walking  \\\n",
       "0  662113c140     0 -9.24163 0.09398 -2.49122                0     0        0   \n",
       "1  662113c140     1 -9.25806 0.10962 -2.51175                0     0        0   \n",
       "2  662113c140     2 -9.25336 0.11202 -2.54780                0     0        0   \n",
       "3  662113c140     3 -9.25150 0.11161 -2.55477                0     0        0   \n",
       "4  662113c140     4 -9.25538 0.11000 -2.54995                0     0        0   \n",
       "\n",
       "  Subject  Visit  Test  Age  YearsSinceDx  NFOGQ  gender_F  gender_M  med_off  \\\n",
       "0  f5586f      4     1   65      10.00000     15         0         1        1   \n",
       "1  f5586f      4     1   65      10.00000     15         0         1        1   \n",
       "2  f5586f      4     1   65      10.00000     15         0         1        1   \n",
       "3  f5586f      4     1   65      10.00000     15         0         1        1   \n",
       "4  f5586f      4     1   65      10.00000     15         0         1        1   \n",
       "\n",
       "   med_on  \n",
       "0       0  \n",
       "1       0  \n",
       "2       0  \n",
       "3       0  \n",
       "4       0  "
      ]
     },
     "execution_count": 35,
     "metadata": {},
     "output_type": "execute_result"
    }
   ],
   "source": [
    "df.head()"
   ]
  },
  {
   "cell_type": "code",
   "execution_count": 36,
   "metadata": {},
   "outputs": [],
   "source": [
    "cond = [(df['StartHesitation'] == 1),(df['Turn'] == 1),(df['Walking'] == 1)]\n",
    "features = ['StartHesitation', 'Turn', 'Walking']\n",
    "df['Class'] = np.select(cond, features, default='None')"
   ]
  },
  {
   "cell_type": "code",
   "execution_count": 37,
   "metadata": {},
   "outputs": [
    {
     "data": {
      "text/html": [
       "<div>\n",
       "<style scoped>\n",
       "    .dataframe tbody tr th:only-of-type {\n",
       "        vertical-align: middle;\n",
       "    }\n",
       "\n",
       "    .dataframe tbody tr th {\n",
       "        vertical-align: top;\n",
       "    }\n",
       "\n",
       "    .dataframe thead th {\n",
       "        text-align: right;\n",
       "    }\n",
       "</style>\n",
       "<table border=\"1\" class=\"dataframe\">\n",
       "  <thead>\n",
       "    <tr style=\"text-align: right;\">\n",
       "      <th></th>\n",
       "      <th>Class</th>\n",
       "    </tr>\n",
       "  </thead>\n",
       "  <tbody>\n",
       "    <tr>\n",
       "      <th>None</th>\n",
       "      <td>4871262</td>\n",
       "    </tr>\n",
       "    <tr>\n",
       "      <th>Turn</th>\n",
       "      <td>1678782</td>\n",
       "    </tr>\n",
       "    <tr>\n",
       "      <th>StartHesitation</th>\n",
       "      <td>304790</td>\n",
       "    </tr>\n",
       "    <tr>\n",
       "      <th>Walking</th>\n",
       "      <td>207838</td>\n",
       "    </tr>\n",
       "  </tbody>\n",
       "</table>\n",
       "</div>"
      ],
      "text/plain": [
       "                   Class\n",
       "None             4871262\n",
       "Turn             1678782\n",
       "StartHesitation   304790\n",
       "Walking           207838"
      ]
     },
     "execution_count": 37,
     "metadata": {},
     "output_type": "execute_result"
    }
   ],
   "source": [
    "df['Class'].value_counts().to_frame()"
   ]
  },
  {
   "cell_type": "code",
   "execution_count": 38,
   "metadata": {},
   "outputs": [
    {
     "data": {
      "text/html": [
       "<div>\n",
       "<style scoped>\n",
       "    .dataframe tbody tr th:only-of-type {\n",
       "        vertical-align: middle;\n",
       "    }\n",
       "\n",
       "    .dataframe tbody tr th {\n",
       "        vertical-align: top;\n",
       "    }\n",
       "\n",
       "    .dataframe thead th {\n",
       "        text-align: right;\n",
       "    }\n",
       "</style>\n",
       "<table border=\"1\" class=\"dataframe\">\n",
       "  <thead>\n",
       "    <tr style=\"text-align: right;\">\n",
       "      <th></th>\n",
       "      <th>Id</th>\n",
       "      <th>Time</th>\n",
       "      <th>AccV</th>\n",
       "      <th>AccML</th>\n",
       "      <th>AccAP</th>\n",
       "      <th>StartHesitation</th>\n",
       "      <th>Turn</th>\n",
       "      <th>Walking</th>\n",
       "      <th>Subject</th>\n",
       "      <th>Visit</th>\n",
       "      <th>Test</th>\n",
       "      <th>Age</th>\n",
       "      <th>YearsSinceDx</th>\n",
       "      <th>NFOGQ</th>\n",
       "      <th>gender_F</th>\n",
       "      <th>gender_M</th>\n",
       "      <th>med_off</th>\n",
       "      <th>med_on</th>\n",
       "      <th>Class</th>\n",
       "    </tr>\n",
       "  </thead>\n",
       "  <tbody>\n",
       "    <tr>\n",
       "      <th>0</th>\n",
       "      <td>662113c140</td>\n",
       "      <td>0</td>\n",
       "      <td>-9.24163</td>\n",
       "      <td>0.09398</td>\n",
       "      <td>-2.49122</td>\n",
       "      <td>0</td>\n",
       "      <td>0</td>\n",
       "      <td>0</td>\n",
       "      <td>f5586f</td>\n",
       "      <td>4</td>\n",
       "      <td>1</td>\n",
       "      <td>65</td>\n",
       "      <td>10.00000</td>\n",
       "      <td>15</td>\n",
       "      <td>0</td>\n",
       "      <td>1</td>\n",
       "      <td>1</td>\n",
       "      <td>0</td>\n",
       "      <td>None</td>\n",
       "    </tr>\n",
       "    <tr>\n",
       "      <th>1</th>\n",
       "      <td>662113c140</td>\n",
       "      <td>1</td>\n",
       "      <td>-9.25806</td>\n",
       "      <td>0.10962</td>\n",
       "      <td>-2.51175</td>\n",
       "      <td>0</td>\n",
       "      <td>0</td>\n",
       "      <td>0</td>\n",
       "      <td>f5586f</td>\n",
       "      <td>4</td>\n",
       "      <td>1</td>\n",
       "      <td>65</td>\n",
       "      <td>10.00000</td>\n",
       "      <td>15</td>\n",
       "      <td>0</td>\n",
       "      <td>1</td>\n",
       "      <td>1</td>\n",
       "      <td>0</td>\n",
       "      <td>None</td>\n",
       "    </tr>\n",
       "    <tr>\n",
       "      <th>2</th>\n",
       "      <td>662113c140</td>\n",
       "      <td>2</td>\n",
       "      <td>-9.25336</td>\n",
       "      <td>0.11202</td>\n",
       "      <td>-2.54780</td>\n",
       "      <td>0</td>\n",
       "      <td>0</td>\n",
       "      <td>0</td>\n",
       "      <td>f5586f</td>\n",
       "      <td>4</td>\n",
       "      <td>1</td>\n",
       "      <td>65</td>\n",
       "      <td>10.00000</td>\n",
       "      <td>15</td>\n",
       "      <td>0</td>\n",
       "      <td>1</td>\n",
       "      <td>1</td>\n",
       "      <td>0</td>\n",
       "      <td>None</td>\n",
       "    </tr>\n",
       "    <tr>\n",
       "      <th>3</th>\n",
       "      <td>662113c140</td>\n",
       "      <td>3</td>\n",
       "      <td>-9.25150</td>\n",
       "      <td>0.11161</td>\n",
       "      <td>-2.55477</td>\n",
       "      <td>0</td>\n",
       "      <td>0</td>\n",
       "      <td>0</td>\n",
       "      <td>f5586f</td>\n",
       "      <td>4</td>\n",
       "      <td>1</td>\n",
       "      <td>65</td>\n",
       "      <td>10.00000</td>\n",
       "      <td>15</td>\n",
       "      <td>0</td>\n",
       "      <td>1</td>\n",
       "      <td>1</td>\n",
       "      <td>0</td>\n",
       "      <td>None</td>\n",
       "    </tr>\n",
       "    <tr>\n",
       "      <th>4</th>\n",
       "      <td>662113c140</td>\n",
       "      <td>4</td>\n",
       "      <td>-9.25538</td>\n",
       "      <td>0.11000</td>\n",
       "      <td>-2.54995</td>\n",
       "      <td>0</td>\n",
       "      <td>0</td>\n",
       "      <td>0</td>\n",
       "      <td>f5586f</td>\n",
       "      <td>4</td>\n",
       "      <td>1</td>\n",
       "      <td>65</td>\n",
       "      <td>10.00000</td>\n",
       "      <td>15</td>\n",
       "      <td>0</td>\n",
       "      <td>1</td>\n",
       "      <td>1</td>\n",
       "      <td>0</td>\n",
       "      <td>None</td>\n",
       "    </tr>\n",
       "  </tbody>\n",
       "</table>\n",
       "</div>"
      ],
      "text/plain": [
       "           Id  Time     AccV   AccML    AccAP  StartHesitation  Turn  Walking  \\\n",
       "0  662113c140     0 -9.24163 0.09398 -2.49122                0     0        0   \n",
       "1  662113c140     1 -9.25806 0.10962 -2.51175                0     0        0   \n",
       "2  662113c140     2 -9.25336 0.11202 -2.54780                0     0        0   \n",
       "3  662113c140     3 -9.25150 0.11161 -2.55477                0     0        0   \n",
       "4  662113c140     4 -9.25538 0.11000 -2.54995                0     0        0   \n",
       "\n",
       "  Subject  Visit  Test  Age  YearsSinceDx  NFOGQ  gender_F  gender_M  med_off  \\\n",
       "0  f5586f      4     1   65      10.00000     15         0         1        1   \n",
       "1  f5586f      4     1   65      10.00000     15         0         1        1   \n",
       "2  f5586f      4     1   65      10.00000     15         0         1        1   \n",
       "3  f5586f      4     1   65      10.00000     15         0         1        1   \n",
       "4  f5586f      4     1   65      10.00000     15         0         1        1   \n",
       "\n",
       "   med_on Class  \n",
       "0       0  None  \n",
       "1       0  None  \n",
       "2       0  None  \n",
       "3       0  None  \n",
       "4       0  None  "
      ]
     },
     "execution_count": 38,
     "metadata": {},
     "output_type": "execute_result"
    }
   ],
   "source": [
    "df.head()"
   ]
  },
  {
   "cell_type": "code",
   "execution_count": 39,
   "metadata": {},
   "outputs": [],
   "source": [
    "train_df = df[['AccV','AccML','AccAP','Class']]"
   ]
  },
  {
   "cell_type": "code",
   "execution_count": 40,
   "metadata": {},
   "outputs": [
    {
     "name": "stderr",
     "output_type": "stream",
     "text": [
      "<ipython-input-40-1e2d66eb19ae>:3: SettingWithCopyWarning: \n",
      "A value is trying to be set on a copy of a slice from a DataFrame.\n",
      "Try using .loc[row_indexer,col_indexer] = value instead\n",
      "\n",
      "See the caveats in the documentation: https://pandas.pydata.org/pandas-docs/stable/user_guide/indexing.html#returning-a-view-versus-a-copy\n",
      "  train_df['target'] = LabelEncoder.fit_transform(train_df['Class'])\n"
     ]
    }
   ],
   "source": [
    "from sklearn.preprocessing import LabelEncoder\n",
    "LabelEncoder = LabelEncoder()\n",
    "train_df['target'] = LabelEncoder.fit_transform(train_df['Class'])"
   ]
  },
  {
   "cell_type": "code",
   "execution_count": 86,
   "metadata": {},
   "outputs": [],
   "source": [
    "X = train_df.drop(['Class','target'], axis=1).values\n",
    "y = train_df['target'].values"
   ]
  },
  {
   "cell_type": "code",
   "execution_count": 87,
   "metadata": {},
   "outputs": [],
   "source": [
    "random_state=1234"
   ]
  },
  {
   "cell_type": "code",
   "execution_count": 88,
   "metadata": {},
   "outputs": [],
   "source": [
    "from sklearn.model_selection import train_test_split\n",
    "X_train, X_test, y_train, y_test = train_test_split(X,y, test_size=0.2, random_state=random_state)"
   ]
  },
  {
   "cell_type": "code",
   "execution_count": 89,
   "metadata": {},
   "outputs": [
    {
     "name": "stdout",
     "output_type": "stream",
     "text": [
      "5650137 1412535 5650137 1412535\n"
     ]
    }
   ],
   "source": [
    "print(len(X_train), len(X_test), len(y_train), len(y_test))"
   ]
  },
  {
   "cell_type": "code",
   "execution_count": 90,
   "metadata": {},
   "outputs": [
    {
     "name": "stdout",
     "output_type": "stream",
     "text": [
      "LogisticRegression(C=1000.0, max_iter=50000)\n"
     ]
    }
   ],
   "source": [
    "# Train the model\n",
    "from sklearn.linear_model import LogisticRegression\n",
    "\n",
    "# Set regularization rate\n",
    "reg = 0.001\n",
    "\n",
    "# train a logistic regression model on the training set\n",
    "model = LogisticRegression(C=1/reg, solver=\"lbfgs\", multi_class='auto', max_iter=50000).fit(X_train, y_train)\n",
    "print (model)"
   ]
  },
  {
   "cell_type": "code",
   "execution_count": 91,
   "metadata": {},
   "outputs": [
    {
     "name": "stdout",
     "output_type": "stream",
     "text": [
      "Predicted labels:  [0 2 0 0 0 0 0 0 0 0 0 0 2 0 0]\n",
      "Actual labels   :  [0 2 2 0 2 0 0 3 1 2 0 0 2 0 0]\n"
     ]
    }
   ],
   "source": [
    "target_predictions = model.predict(X_test)\n",
    "print('Predicted labels: ', target_predictions[:15])\n",
    "print('Actual labels   : ' ,y_test[:15])"
   ]
  },
  {
   "cell_type": "code",
   "execution_count": 92,
   "metadata": {},
   "outputs": [
    {
     "name": "stdout",
     "output_type": "stream",
     "text": [
      "Accuracy score: 0.6986524227718252\n"
     ]
    }
   ],
   "source": [
    "from sklearn.metrics import accuracy_score\n",
    "print(f\"Accuracy score: {accuracy_score(y_test, target_predictions)}\")"
   ]
  },
  {
   "cell_type": "code",
   "execution_count": 93,
   "metadata": {},
   "outputs": [
    {
     "name": "stdout",
     "output_type": "stream",
     "text": [
      "Overall Precision: 0.6986524227718252\n",
      "Overall Recall: 0.6986524227718252\n"
     ]
    }
   ],
   "source": [
    "from sklearn.metrics import precision_score, recall_score\n",
    "print(\"Overall Precision:\",precision_score(y_test, target_predictions,average='micro'))\n",
    "print(\"Overall Recall:\",recall_score(y_test, target_predictions,average='micro'))"
   ]
  },
  {
   "cell_type": "code",
   "execution_count": 99,
   "metadata": {},
   "outputs": [
    {
     "name": "stdout",
     "output_type": "stream",
     "text": [
      "              precision    recall  f1-score   support\n",
      "\n",
      "           0       0.71      0.96      0.82    973722\n",
      "           1       0.07      0.00      0.00     60997\n",
      "           2       0.50      0.15      0.23    335956\n",
      "           3       0.22      0.00      0.00     41860\n",
      "\n",
      "    accuracy                           0.70   1412535\n",
      "   macro avg       0.37      0.28      0.26   1412535\n",
      "weighted avg       0.62      0.70      0.62   1412535\n",
      "\n"
     ]
    }
   ],
   "source": [
    "from sklearn. metrics import classification_report\n",
    "\n",
    "print(classification_report(y_test, target_predictions))"
   ]
  },
  {
   "cell_type": "code",
   "execution_count": 94,
   "metadata": {},
   "outputs": [
    {
     "name": "stderr",
     "output_type": "stream",
     "text": [
      "/home/rupamay/anaconda3/lib/python3.8/site-packages/dask/dataframe/utils.py:366: FutureWarning: pandas.Int64Index is deprecated and will be removed from pandas in a future version. Use pandas.Index with the appropriate dtype instead.\n",
      "  _numeric_index_types = (pd.Int64Index, pd.Float64Index, pd.UInt64Index)\n",
      "/home/rupamay/anaconda3/lib/python3.8/site-packages/dask/dataframe/utils.py:366: FutureWarning: pandas.Float64Index is deprecated and will be removed from pandas in a future version. Use pandas.Index with the appropriate dtype instead.\n",
      "  _numeric_index_types = (pd.Int64Index, pd.Float64Index, pd.UInt64Index)\n",
      "/home/rupamay/anaconda3/lib/python3.8/site-packages/dask/dataframe/utils.py:366: FutureWarning: pandas.UInt64Index is deprecated and will be removed from pandas in a future version. Use pandas.Index with the appropriate dtype instead.\n",
      "  _numeric_index_types = (pd.Int64Index, pd.Float64Index, pd.UInt64Index)\n"
     ]
    }
   ],
   "source": [
    "import lightgbm as lgb\n",
    "\n",
    "\n",
    "#Converting the dataset in proper LGB format\n",
    "d_train=lgb.Dataset(X_train, label=y_train)\n",
    "#setting up the parameters\n",
    "params={}\n",
    "params['learning_rate']=0.03\n",
    "params['boosting_type']='gbdt' #GradientBoostingDecisionTree\n",
    "params['objective']='multiclass' #Multi-class target feature\n",
    "params['metric']='multi_logloss' #metric for multi-class\n",
    "params['max_depth']=7\n",
    "params['num_class']=4 #no.of unique values in the target class not inclusive of the end value\n",
    "params['verbose']=-1\n",
    "#training the model\n",
    "clf=lgb.train(params,d_train,1000)  #training the model on 1,000 epocs\n",
    "#prediction on the test dataset\n",
    "y_pred_1=clf.predict(X_test)"
   ]
  },
  {
   "cell_type": "code",
   "execution_count": 96,
   "metadata": {},
   "outputs": [
    {
     "data": {
      "text/plain": [
       "array([[0.36814866, 0.12369252, 0.40211893, 0.10603988]])"
      ]
     },
     "execution_count": 96,
     "metadata": {},
     "output_type": "execute_result"
    }
   ],
   "source": [
    "y_pred_1[:1]"
   ]
  },
  {
   "cell_type": "code",
   "execution_count": 98,
   "metadata": {},
   "outputs": [
    {
     "data": {
      "text/plain": [
       "0.7279508118382907"
      ]
     },
     "execution_count": 98,
     "metadata": {},
     "output_type": "execute_result"
    }
   ],
   "source": [
    "from sklearn.metrics import precision_score\n",
    "precision_score(y_test, np.argmax(y_pred_1, axis=-1), average='micro')"
   ]
  },
  {
   "cell_type": "code",
   "execution_count": 102,
   "metadata": {},
   "outputs": [],
   "source": [
    "from sklearn.ensemble import RandomForestClassifier\n",
    "from sklearn.datasets import make_classification\n",
    "\n",
    "RandomForest_clf = RandomForestClassifier(max_depth=5, random_state=0)\n",
    "RandomForest_clf.fit(X_train, y_train)\n",
    "\n",
    "RandomForest_predictions=RandomForest_clf.predict(X_test)"
   ]
  },
  {
   "cell_type": "code",
   "execution_count": 103,
   "metadata": {},
   "outputs": [
    {
     "name": "stdout",
     "output_type": "stream",
     "text": [
      "Predicted labels:  [0 2 0 0 0 0 0 0 0 0 0 0 0 0 0]\n",
      "Actual labels   :  [0 2 2 0 2 0 0 3 1 2 0 0 2 0 0]\n"
     ]
    }
   ],
   "source": [
    "print('Predicted labels: ', RandomForest_predictions[:15])\n",
    "print('Actual labels   : ' ,y_test[:15])"
   ]
  },
  {
   "cell_type": "code",
   "execution_count": 104,
   "metadata": {},
   "outputs": [
    {
     "name": "stdout",
     "output_type": "stream",
     "text": [
      "Accuracy score: 0.7011996162926937\n"
     ]
    }
   ],
   "source": [
    "from sklearn.metrics import accuracy_score\n",
    "print(f\"Accuracy score: {accuracy_score(y_test, RandomForest_predictions)}\")"
   ]
  },
  {
   "cell_type": "code",
   "execution_count": 105,
   "metadata": {},
   "outputs": [
    {
     "name": "stdout",
     "output_type": "stream",
     "text": [
      "Overall Precision: 0.7011996162926937\n",
      "Overall Recall: 0.7011996162926937\n"
     ]
    }
   ],
   "source": [
    "from sklearn.metrics import precision_score, recall_score\n",
    "print(\"Overall Precision:\",precision_score(y_test, RandomForest_predictions,average='micro'))\n",
    "print(\"Overall Recall:\",recall_score(y_test, RandomForest_predictions,average='micro'))"
   ]
  },
  {
   "cell_type": "code",
   "execution_count": null,
   "metadata": {},
   "outputs": [],
   "source": [
    "from sklearn.ensemble import GradientBoostingClassifier\n",
    "GradientBoostingClassifier_clf = GradientBoostingClassifier(n_estimators=100, learning_rate=1.0,max_depth=1, random_state=0)\n",
    "GradientBoostingClassifier_clf.fit(X_train, y_train)\n",
    "GradientBoostingClassifier_predictions=GradientBoostingClassifier_clf.predict(X_test)"
   ]
  },
  {
   "cell_type": "code",
   "execution_count": null,
   "metadata": {},
   "outputs": [],
   "source": [
    "print('Predicted labels: ', RandomForest_predictions[:15])\n",
    "print('Actual labels   : ' ,y_test[:15])"
   ]
  },
  {
   "cell_type": "code",
   "execution_count": null,
   "metadata": {},
   "outputs": [],
   "source": [
    "from sklearn.metrics import accuracy_score\n",
    "print(f\"Accuracy score: {accuracy_score(y_test, RandomForest_predictions)}\")"
   ]
  },
  {
   "cell_type": "code",
   "execution_count": null,
   "metadata": {},
   "outputs": [],
   "source": [
    "from sklearn.metrics import precision_score, recall_score\n",
    "print(\"Overall Precision:\",precision_score(y_test, RandomForest_predictions,average='micro'))\n",
    "print(\"Overall Recall:\",recall_score(y_test, RandomForest_predictions,average='micro'))"
   ]
  }
 ],
 "metadata": {
  "kernelspec": {
   "display_name": "Python 3",
   "language": "python",
   "name": "python3"
  },
  "language_info": {
   "codemirror_mode": {
    "name": "ipython",
    "version": 3
   },
   "file_extension": ".py",
   "mimetype": "text/x-python",
   "name": "python",
   "nbconvert_exporter": "python",
   "pygments_lexer": "ipython3",
   "version": "3.8.3"
  }
 },
 "nbformat": 4,
 "nbformat_minor": 4
}
